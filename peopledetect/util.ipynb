{
 "cells": [
  {
   "cell_type": "code",
   "execution_count": 2,
   "metadata": {},
   "outputs": [],
   "source": [
    "import os\n",
    "import numpy as np\n",
    "import cv2 as cv"
   ]
  },
  {
   "cell_type": "code",
   "execution_count": 3,
   "metadata": {},
   "outputs": [],
   "source": [
    "def inside(r, q):\n",
    "    rx, ry, rw, rh = r\n",
    "    qx, qy, qw, qh = q\n",
    "    return rx > qx and ry > qy and rx + rw < qx + qw and ry + rh < qy + qh\n",
    "\n",
    "\n",
    "def draw_detections(img, rects, thickness = 1):\n",
    "    for x, y, w, h in rects:\n",
    "        # the HOG detector returns slightly larger rectangles than the real objects.\n",
    "        # so we slightly shrink the rectangles to get a nicer output.\n",
    "        pad_w, pad_h = int(0.15*w), int(0.05*h)\n",
    "        cv.rectangle(img, (x+pad_w, y+pad_h), (x+w-pad_w, y+h-pad_h), (0, 255, 0), thickness)\n"
   ]
  },
  {
   "cell_type": "code",
   "execution_count": 4,
   "metadata": {},
   "outputs": [],
   "source": [
    "def peopledetect(folder):\n",
    "    import sys\n",
    "    from glob import glob\n",
    "    import itertools as it\n",
    "\n",
    "    # print(__doc__)\n",
    "\n",
    "    hog = cv.HOGDescriptor()\n",
    "    hog.setSVMDetector( cv.HOGDescriptor_getDefaultPeopleDetector() )\n",
    "\n",
    "    #default = ['../data/basketball2.png '] if len(sys.argv[1:]) == 0 else []\n",
    "\n",
    "    #for fn in it.chain(*map(glob, default + sys.argv[1:])):\n",
    "    for fn in os.listdir(folder):\n",
    "        #print(fn, ' - ',)\n",
    "        try:\n",
    "            img = cv.imread(folder + '/' + fn)\n",
    "            if img is None:\n",
    "                print('Failed to load image file:', fn)\n",
    "                continue\n",
    "        except:\n",
    "            print('loading error')\n",
    "            continue\n",
    "\n",
    "        found, w = hog.detectMultiScale(img, winStride=(8,8), padding=(32,32), scale=1.05)\n",
    "        found_filtered = []\n",
    "        for ri, r in enumerate(found):\n",
    "            for qi, q in enumerate(found):\n",
    "                if ri != qi and inside(r, q):\n",
    "                    break\n",
    "            else:\n",
    "                found_filtered.append(r)\n",
    "        draw_detections(img, found)\n",
    "        draw_detections(img, found_filtered, 3)\n",
    "        print('%d (%d) found' % (len(found_filtered), len(found)))\n",
    "        cv.imshow('img', img)\n",
    "        ch = cv.waitKey()\n",
    "        if ch == 27:\n",
    "            break\n",
    "    cv.destroyAllWindows()"
   ]
  },
  {
   "cell_type": "code",
   "execution_count": 5,
   "metadata": {},
   "outputs": [
    {
     "name": "stdout",
     "output_type": "stream",
     "text": [
      "0 (0) found\n",
      "4 (4) found\n",
      "0 (0) found\n",
      "7 (8) found\n",
      "8 (8) found\n"
     ]
    }
   ],
   "source": [
    "peopledetect('pedestrian')"
   ]
  }
 ],
 "metadata": {
  "kernelspec": {
   "display_name": "Python 3",
   "language": "python",
   "name": "python3"
  },
  "language_info": {
   "codemirror_mode": {
    "name": "ipython",
    "version": 3
   },
   "file_extension": ".py",
   "mimetype": "text/x-python",
   "name": "python",
   "nbconvert_exporter": "python",
   "pygments_lexer": "ipython3",
   "version": "3.6.3"
  }
 },
 "nbformat": 4,
 "nbformat_minor": 2
}
